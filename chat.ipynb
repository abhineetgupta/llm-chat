{
 "cells": [
  {
   "cell_type": "code",
   "execution_count": null,
   "id": "36664ceb-3cd4-4656-8b41-a25ee980efad",
   "metadata": {
    "tags": []
   },
   "outputs": [],
   "source": [
    "%pip install -U openai python-dotenv"
   ]
  },
  {
   "cell_type": "code",
   "execution_count": null,
   "id": "57a6ef27-c072-4e33-9515-152d58759614",
   "metadata": {
    "tags": []
   },
   "outputs": [],
   "source": [
    "import os\n",
    "import openai\n",
    "from dotenv import load_dotenv\n",
    "\n",
    "load_dotenv()\n",
    "\n",
    "openai.api_key = os.environ.get('API_KEY')"
   ]
  },
  {
   "cell_type": "code",
   "execution_count": null,
   "id": "d4c762b1-f4fe-4b20-849b-05d8ae0fb36a",
   "metadata": {
    "tags": []
   },
   "outputs": [],
   "source": [
    "def get_completion(prompt, model=\"gpt-3.5-turbo\"):\n",
    "    messages = [{\"role\": \"user\", \"content\": prompt}]\n",
    "    response = openai.ChatCompletion.create(\n",
    "        model=model,\n",
    "        messages=messages,\n",
    "        temperature=0, # this is the degree of randomness of the model's output\n",
    "    )\n",
    "    return response.choices[0].message[\"content\"]\n",
    "\n",
    "def get_completion_from_messages(messages, model=\"gpt-3.5-turbo\", temperature=0):\n",
    "    response = openai.ChatCompletion.create(\n",
    "        model=model,\n",
    "        messages=messages,\n",
    "        temperature=temperature, # this is the degree of randomness of the model's output\n",
    "    )\n",
    "#     print(str(response.choices[0].message))\n",
    "    return response.choices[0].message[\"content\"]"
   ]
  },
  {
   "cell_type": "code",
   "execution_count": null,
   "id": "21cc3e6b-6126-4798-97d2-9651f47c1982",
   "metadata": {
    "tags": []
   },
   "outputs": [],
   "source": [
    "# Example\n",
    "messages =  [  \n",
    "{'role':'system', 'content':'You are an assistant that speaks like Shakespeare.'},    \n",
    "{'role':'user', 'content':'tell me a joke'},   \n",
    "{'role':'assistant', 'content':'Why did the chicken cross the road'},   \n",
    "{'role':'user', 'content':'I don\\'t know'}  ]\n",
    "\n",
    "response = get_completion_from_messages(messages, temperature=1)\n",
    "print(response)"
   ]
  },
  {
   "cell_type": "code",
   "execution_count": null,
   "id": "ac63861c-0d1c-47bd-9020-a55b33f2a0cb",
   "metadata": {
    "tags": []
   },
   "outputs": [],
   "source": [
    "# append messages\n",
    "def collect_messages(messages):\n",
    "    while True:\n",
    "        prompt = input(\"User: \")\n",
    "        if prompt == \"NULL\":\n",
    "            return\n",
    "        if prompt.startswith(\"system:\"):\n",
    "            messages.append(dict(role='system', content=prompt[7:]))\n",
    "            print(\"system message appended. continuing with user prompt...\")\n",
    "            continue\n",
    "        messages.append(dict(role='user', content=prompt))\n",
    "        response = get_completion_from_messages(messages, temperature=0)\n",
    "        messages.append(dict(role='assistant', content=response))\n",
    "        print(f\"Assistant: {response}\")"
   ]
  },
  {
   "cell_type": "code",
   "execution_count": null,
   "id": "4ae126b9-ad58-406a-bc2e-22155c2c0733",
   "metadata": {
    "scrolled": true,
    "tags": []
   },
   "outputs": [],
   "source": [
    "# Python\n",
    "messages = [  \n",
    "{'role':'system', 'content':'You are a python instructor. You teach code that optimizes for \\\n",
    "speed. You teach code that is readable. You teach to use abstractions and functions as needed. You \\\n",
    "teach to follow python styling best practices. You teach to follow coding best practices. When you answer questions \\\n",
    "you are succint and friendly. You don\\'t over explain answers.'},    \n",
    "]\n",
    "collect_messages(messages)"
   ]
  },
  {
   "cell_type": "code",
   "execution_count": null,
   "id": "a2411e7f-4ae1-4189-9887-ef1cea1e1dd2",
   "metadata": {},
   "outputs": [],
   "source": []
  }
 ],
 "metadata": {
  "kernelspec": {
   "display_name": "Python 3 (ipykernel)",
   "language": "python",
   "name": "python3"
  },
  "language_info": {
   "codemirror_mode": {
    "name": "ipython",
    "version": 3
   },
   "file_extension": ".py",
   "mimetype": "text/x-python",
   "name": "python",
   "nbconvert_exporter": "python",
   "pygments_lexer": "ipython3",
   "version": "3.10.10"
  },
  "toc-autonumbering": true
 },
 "nbformat": 4,
 "nbformat_minor": 5
}
